{
  "nbformat": 4,
  "nbformat_minor": 0,
  "metadata": {
    "colab": {
      "provenance": [],
      "authorship_tag": "ABX9TyNOnITcMHml9+xP3y9Rq4Of",
      "include_colab_link": true
    },
    "kernelspec": {
      "name": "python3",
      "display_name": "Python 3"
    },
    "language_info": {
      "name": "python"
    }
  },
  "cells": [
    {
      "cell_type": "markdown",
      "metadata": {
        "id": "view-in-github",
        "colab_type": "text"
      },
      "source": [
        "<a href=\"https://colab.research.google.com/github/21JN1A4571/python-programs/blob/main/ACCENTURE.ipynb\" target=\"_parent\"><img src=\"https://colab.research.google.com/assets/colab-badge.svg\" alt=\"Open In Colab\"/></a>"
      ]
    },
    {
      "cell_type": "markdown",
      "source": [
        "# Operation Binary String"
      ],
      "metadata": {
        "id": "zz09i1FEy3J5"
      }
    },
    {
      "cell_type": "code",
      "execution_count": 39,
      "metadata": {
        "colab": {
          "base_uri": "https://localhost:8080/"
        },
        "id": "y-wPxi8_CBC2",
        "outputId": "1c7bbe3c-117d-4308-e5dc-7f3c21a4cfb7"
      },
      "outputs": [
        {
          "output_type": "stream",
          "name": "stdout",
          "text": [
            "1C0B0C1\n",
            "0\n"
          ]
        }
      ],
      "source": [
        "def OperationsBinaryString(str):\n",
        "    ans=ord(str[0])-ord('0')\n",
        "    for i in range(1,len(str),2):\n",
        "        j=i+1\n",
        "        if(str[i]=='A'):\n",
        "            ans=ans&(ord(str[j])-ord('0'))\n",
        "        elif(str[i]=='B'):\n",
        "            ans=ans|(ord(str[j])-ord('0'))\n",
        "        elif(str[i]=='C'):\n",
        "            ans=ans^(ord(str[j])-ord('0'))\n",
        "    return ans\n",
        "str=input()\n",
        "print(OperationsBinaryString(str))"
      ]
    },
    {
      "cell_type": "markdown",
      "source": [
        "# Average Rounded Number"
      ],
      "metadata": {
        "id": "Ycpj7Mb1zB9x"
      }
    },
    {
      "cell_type": "code",
      "source": [
        "def Average(s):\n",
        "    n=len(s)\n",
        "    sum =0\n",
        "    for i in s:\n",
        "        sum=sum+ord(i)\n",
        "    avg=sum/n\n",
        "    return avg\n",
        "s=input()\n",
        "temp=Average(s)\n",
        "rounded_number=format(temp,\"2f\")\n",
        "print(rounded_number)"
      ],
      "metadata": {
        "colab": {
          "base_uri": "https://localhost:8080/"
        },
        "id": "WbOkMqRlDHlE",
        "outputId": "83a7c8da-698a-4af3-966f-2a28dd34f0e3"
      },
      "execution_count": null,
      "outputs": [
        {
          "output_type": "stream",
          "name": "stdout",
          "text": [
            "AABC\n",
            "65.750000\n"
          ]
        }
      ]
    },
    {
      "cell_type": "markdown",
      "source": [
        "# Convert to Palindrome"
      ],
      "metadata": {
        "id": "TL-AmqI-zWMA"
      }
    },
    {
      "cell_type": "code",
      "source": [
        "def ConvertToPalindrome(l):\n",
        "\n",
        "  le=len(l)\n",
        "  for i in range(le):\n",
        "    le=len(l)\n",
        "    if l[i]!=l[le-i-1]:\n",
        "      l.insert(le-i,l[i])\n",
        "    else:\n",
        "        break\n",
        "    s=\"\".join(l)\n",
        "    if s==s[::-1]:\n",
        "        s=s.replace(s1,\"\")\n",
        "  return s\n",
        "s1=input().strip()\n",
        "l=list(s1)\n",
        "print(ConvertToPalindrome(l))"
      ],
      "metadata": {
        "colab": {
          "base_uri": "https://localhost:8080/"
        },
        "id": "GVqQNahARsu9",
        "outputId": "e93b6b83-85e7-4540-fbbf-7e501f6a96ef"
      },
      "execution_count": null,
      "outputs": [
        {
          "output_type": "stream",
          "name": "stdout",
          "text": [
            "acb\n",
            "ca\n"
          ]
        }
      ]
    },
    {
      "cell_type": "markdown",
      "source": [
        "# Sum Of Leaders"
      ],
      "metadata": {
        "id": "0V3HzxBrA0GU"
      }
    },
    {
      "cell_type": "code",
      "source": [
        "\n",
        "def sumOfLeaders(arr, n):\n",
        "    sum=0\n",
        "    for i in range(n-1):\n",
        "        flag=1\n",
        "        for j in range(i,n):\n",
        "            if (arr[j]>arr[i]):\n",
        "                 flag=0\n",
        "                 break\n",
        "        if(flag==1):\n",
        "            sum+=arr[i]\n",
        "    sum=sum+arr[n-1]\n",
        "    return sum\n",
        "n=int(input())\n",
        "arr=list (map(int,input().split()))\n",
        "print(sumOfLeaders(arr,n))"
      ],
      "metadata": {
        "colab": {
          "base_uri": "https://localhost:8080/"
        },
        "id": "bIa6r2tcP05Z",
        "outputId": "49ced67a-7dfa-4a5a-de30-9db927fc2b98"
      },
      "execution_count": null,
      "outputs": [
        {
          "output_type": "stream",
          "name": "stdout",
          "text": [
            "5\n",
            "5 10 15 20 30\n",
            "30\n"
          ]
        }
      ]
    },
    {
      "cell_type": "code",
      "source": [
        "arr=[1,2,3,4,5]\n",
        "arr.insert(2,10)\n",
        "print(arr)"
      ],
      "metadata": {
        "colab": {
          "base_uri": "https://localhost:8080/"
        },
        "id": "FgWJcNj-wQGi",
        "outputId": "a9e65b96-1f99-43c7-a541-f8f53e1a7c51"
      },
      "execution_count": null,
      "outputs": [
        {
          "output_type": "stream",
          "name": "stdout",
          "text": [
            "[1, 2, 10, 3, 4, 5]\n"
          ]
        }
      ]
    },
    {
      "cell_type": "markdown",
      "source": [
        "# Maximum Product\n"
      ],
      "metadata": {
        "id": "37fUs3it2e9S"
      }
    },
    {
      "cell_type": "code",
      "source": [
        "#Explanation:maximum numberin [1 2 3 4] so,3*4=12\n",
        "def max(a,b):\n",
        "    return a if a>b else b\n",
        "L1,L2,R1,R2= map(int, input().split())\n",
        "max_product=max(max(max(L1*L2,L1*R2),max(R1*L2,R1*R2)),max(L1*R1,L2*R2))\n",
        "print(max_product)"
      ],
      "metadata": {
        "colab": {
          "base_uri": "https://localhost:8080/"
        },
        "id": "jOat9JyFAAHn",
        "outputId": "fed77bc8-0f67-4332-b7a6-5e27111b9dae"
      },
      "execution_count": null,
      "outputs": [
        {
          "output_type": "stream",
          "name": "stdout",
          "text": [
            "1 2 3 4 \n",
            "12\n"
          ]
        }
      ]
    },
    {
      "cell_type": "code",
      "source": [
        "\n",
        "n=5\n",
        "a=[1,2,3,4,5]\n",
        "for i in range(n):\n",
        "    if (i==2):\n",
        "        print(10)\n",
        "        print(a[i])\n",
        "    else:\n",
        "        print(a[i])"
      ],
      "metadata": {
        "colab": {
          "base_uri": "https://localhost:8080/"
        },
        "id": "lbMdytTswSxv",
        "outputId": "c5ab06f3-9b30-4a57-9562-897c691e0a0b"
      },
      "execution_count": null,
      "outputs": [
        {
          "output_type": "stream",
          "name": "stdout",
          "text": [
            "1\n",
            "2\n",
            "10\n",
            "3\n",
            "4\n",
            "5\n"
          ]
        }
      ]
    },
    {
      "cell_type": "markdown",
      "source": [
        "# Automorphic number"
      ],
      "metadata": {
        "id": "qsgGz7vnyAMi"
      }
    },
    {
      "cell_type": "code",
      "source": [
        "#EXAMPLE=n=5\n",
        "#explanation:5*5=25 and ends with 5 than it  is automorphic number\n",
        "n= int(input())\n",
        "m=n*n\n",
        "num=m%10\n",
        "if num==n:\n",
        "    print(\"Automorphic\")\n",
        "else:\n",
        "    print(\"Not Automorphic\")\n"
      ],
      "metadata": {
        "colab": {
          "base_uri": "https://localhost:8080/"
        },
        "id": "tcwV6mqlyI52",
        "outputId": "71cca442-5ccf-4269-863f-caf53555be7b"
      },
      "execution_count": null,
      "outputs": [
        {
          "output_type": "stream",
          "name": "stdout",
          "text": [
            "5\n",
            "Automorphic\n"
          ]
        }
      ]
    },
    {
      "cell_type": "markdown",
      "source": [
        "# Abundant Number Or Not"
      ],
      "metadata": {
        "id": "CAWuQ9zgyv-d"
      }
    },
    {
      "cell_type": "code",
      "source": [
        "Example=n=12\n",
        "#Explanation=factors of 12 & sum2+3+4+6=16>12(if the factors of sum is greater than n value then it print a abundant number)\n",
        "n=int(input())\n",
        "sum=0\n",
        "for i in range(1,n):\n",
        "    if n%i==0:\n",
        "        sum=sum+i\n",
        "if sum>n:\n",
        "    print(\"Abundant Number\")\n",
        "else:\n",
        "    print(\"Not Abundant Number\")"
      ],
      "metadata": {
        "colab": {
          "base_uri": "https://localhost:8080/"
        },
        "id": "YT5Ff0OMzqjG",
        "outputId": "c3128864-85ee-4209-f682-4b59abfcc293"
      },
      "execution_count": null,
      "outputs": [
        {
          "output_type": "stream",
          "name": "stdout",
          "text": [
            "12\n",
            "Abundant Number\n"
          ]
        }
      ]
    },
    {
      "cell_type": "markdown",
      "source": [
        "#Harshad Number Or Not"
      ],
      "metadata": {
        "id": "uTQag8E32CBX"
      }
    },
    {
      "cell_type": "code",
      "source": [
        "#Example:n=21\n",
        "#Explanation:21%10=1 and sum=0+1=1 and n=21//10=2 and (2+1=3)\n",
        "n= int(input())\n",
        "sum=0\n",
        "rem=n%10\n",
        "while(rem>0):\n",
        "    sum =sum+rem\n",
        "    n=n//10\n",
        "    rem=n%10\n",
        "if n%sum==0:\n",
        "    print(\"Harshad\")\n",
        "else:\n",
        "    print(\"Not Harshad\")"
      ],
      "metadata": {
        "colab": {
          "base_uri": "https://localhost:8080/"
        },
        "id": "MuXNuyxK6_Ia",
        "outputId": "91410aa3-a609-4fb2-817a-59b33d90558e"
      },
      "execution_count": null,
      "outputs": [
        {
          "output_type": "stream",
          "name": "stdout",
          "text": [
            "21\n",
            "Harshad\n"
          ]
        }
      ]
    },
    {
      "cell_type": "markdown",
      "source": [
        "# Perfect Number Or Not"
      ],
      "metadata": {
        "id": "MxrviBB84xu3"
      }
    },
    {
      "cell_type": "code",
      "source": [
        "#Explanation=factors of 28 & sum 1+2+4+7+14=28 so it is a perfect number\n",
        "n=int(input())\n",
        "sum=0\n",
        "for i in range(1,n):\n",
        "    if n%i==0:\n",
        "        sum=sum+i\n",
        "if sum==n:\n",
        "    print(\"Perfect Number\")\n",
        "else:\n",
        "    print(\"Not Perfect Number\")"
      ],
      "metadata": {
        "colab": {
          "base_uri": "https://localhost:8080/"
        },
        "id": "RevFGLE_62qj",
        "outputId": "242a8539-168a-41f2-d8fc-ed97f6edaa80"
      },
      "execution_count": null,
      "outputs": [
        {
          "output_type": "stream",
          "name": "stdout",
          "text": [
            "28\n",
            "Perfect Number\n"
          ]
        }
      ]
    },
    {
      "cell_type": "markdown",
      "source": [
        "#Friendly Pair Or Not"
      ],
      "metadata": {
        "id": "8hniwzNx7WQs"
      }
    },
    {
      "cell_type": "code",
      "source": [
        "#Explanation :factors of 6=1+2+3=6/6=1 & factors of 28=1+2+4+7+14=28/28=1 s0,it is a friendly pair\n",
        "n1=int(input())\n",
        "n2=int(input())\n",
        "sum1=0\n",
        "sum2=0\n",
        "for i in range(1,n1):\n",
        "    if n1%i==0:\n",
        "        sum1=sum1+i\n",
        "        for j in range(1,n2):\n",
        "            if n2%j==0:\n",
        "                sum2=sum2+i\n",
        "if sum1//n1==sum2//n2:\n",
        "    print(\"Friendly Pair\")\n",
        "else:\n",
        "    print(\"Not Friendly Pair\")"
      ],
      "metadata": {
        "colab": {
          "base_uri": "https://localhost:8080/"
        },
        "id": "T25YMMu57fgs",
        "outputId": "526a9867-82e6-4f06-9553-9bd47a767895"
      },
      "execution_count": null,
      "outputs": [
        {
          "output_type": "stream",
          "name": "stdout",
          "text": [
            "6\n",
            "28\n",
            "Friendly Pair\n"
          ]
        }
      ]
    },
    {
      "cell_type": "markdown",
      "source": [
        "#Perfect square or not"
      ],
      "metadata": {
        "id": "nY7rwpY0-Yc4"
      }
    },
    {
      "cell_type": "code",
      "source": [
        "#explanation=n=25 then 5*5=25 so,it is a perfect square\n",
        "n=int(input())\n",
        "for i in range(1,n):\n",
        "    if i*i==n:\n",
        "        print(\"Perfect Square\")\n",
        "        break\n",
        "else:\n",
        "    print(\"Not Perfect Square\")"
      ],
      "metadata": {
        "colab": {
          "base_uri": "https://localhost:8080/"
        },
        "id": "fQGv-nQ0-ehi",
        "outputId": "524ee6d5-70bd-46cc-af7d-b1ffb1ce54c3"
      },
      "execution_count": null,
      "outputs": [
        {
          "output_type": "stream",
          "name": "stdout",
          "text": [
            "25\n",
            "Perfect Square\n"
          ]
        }
      ]
    },
    {
      "cell_type": "code",
      "source": [
        "# by using math\n",
        "import math\n",
        "n=25\n",
        "print(math.isqrt(n))\n"
      ],
      "metadata": {
        "colab": {
          "base_uri": "https://localhost:8080/"
        },
        "id": "juIleXDy_9Oa",
        "outputId": "15bf4cc1-f8d1-456b-95d5-39bfef49d3bd"
      },
      "execution_count": null,
      "outputs": [
        {
          "output_type": "stream",
          "name": "stdout",
          "text": [
            "5\n"
          ]
        }
      ]
    }
  ]
}